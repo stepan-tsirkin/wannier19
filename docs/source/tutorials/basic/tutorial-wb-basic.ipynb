{
 "cells": [
  {
   "cell_type": "markdown",
   "id": "0a98c76e",
   "metadata": {},
   "source": [
    "# Preliminary notes\n",
    "\n",
    "\n",
    "### 1. Do not be afraid of python\n",
    "\n",
    "WannierBerri is provided as a python module. This means that unlike QE or Wannier90, there is no distinction between \"program\" and input files. All input parameters are provided as arguments to calls of functions and class constructors. (While Wannier function's data is read from the files provided by Wanier90. This may sound (and look) scary to those who never used python (or never coded at all). But please, do not stand up and leave the classroom :)\n",
    "\n",
    "At first, you may use the templates given in the tutorials and modify only those parameters that you understand. The more you learn python, the more advantages you may get from the code. \n",
    "\n",
    "In fact, the border between \"using\" and \"coding\" becomes smeared. In one of the advanced tutorials, it is demonstrated how one can compute quantities that are not yet implemented in WannierBerri, without actually modifying the source code of the package itself.\n",
    "\n",
    "### 2. Jupyter Notebooks\n",
    "\n",
    "In this tutorial, we work with a Jupyter notebook. This is a convenient interactive environment that allows you to play with the code. For production runs, you may want to combine your workflow in one python script and execute it on a (super)computer\n",
    "\n",
    "\n",
    "### 3. Documentation \n",
    "\n",
    "A detailed description of parameters is in https://wannier-berri.org/documentation.html\n",
    "\n",
    "Note : also check the parameters of a parent class!\n",
    "\n",
    "### 4. New interface\n",
    "\n",
    "Those who are already familiar with WB, know that one should use [integrate()](https://wannier-berri.org/docs/oldAPI.html#wannierberri.integrate) or [tabulate()](https://wannier-berri.org/docs/oldAPI.html#wannierberri.tabulate) functions to run calculations. In the new version, they are substituted by  the [run()](https://wannier-berri.org/docs/run.html). This interface looks to be less laconic for basic calculations, but for advanced uses, it provides a powerful tool to pass different parameters to different calculations.\n",
    "\n",
    "### 5. Feedback \n",
    "\n",
    "If you have questions or comments after this tutorial is over, use the following ways of communication:\n",
    "\n",
    "* Discussions or Issues on GitHub : https://github.com/wannier-berri/wannier-berri/discussions\n",
    "\n",
    "* mailing list : https://physik.lists.uzh.ch/sympa/info/wannier-berri\n",
    "\n",
    "\n"
   ]
  },
  {
   "cell_type": "markdown",
   "id": "345d146d",
   "metadata": {},
   "source": [
    "# Tutorial on Wannier Berri : interpolating bands, Berry curvatures, and integrating them\n",
    "\n",
    "In this tutorial we will see how to compute band energies, Berry curvature, spins and anomalous Hall conductivity  using WannierBerri code and further integrate them over the Brillouin zone to obtain Anomalous Hall conductivity, and other quantities of interest.\n",
    "\n",
    "## Preparation of a calculation:\n",
    "\n",
    "* import the needed modules\n",
    "\n",
    "* initialize a [Parallel() or Serial()](https://wannier-berri.org/docs/parallel.html) class \n"
   ]
  },
  {
   "cell_type": "code",
   "execution_count": null,
   "id": "3d966769-a457-4937-8c2f-9b66ceddf92e",
   "metadata": {
    "jupyter": {
     "outputs_hidden": true
    },
    "tags": []
   },
   "outputs": [],
   "source": [
    "# Preliminary \n",
    "\n",
    "# Set environment variables - not mandatory but recommended if you use Parallel()\n",
    "#import os\n",
    "#os.environ['OPENBLAS_NUM_THREADS'] = '1' \n",
    "#os.environ['MKL_NUM_THREADS'] = '1'\n",
    "\n",
    "\n",
    "import wannierberri as wberri\n",
    "print (f\"Using WannierBerri version {wberri.__version__}\")\n",
    "import numpy as np\n",
    "import scipy\n",
    "import matplotlib.pyplot as plt\n",
    "from termcolor import cprint\n",
    "\n",
    "#  This block is needed if you run this cell for a second time\n",
    "#  because one cannot initiate two parallel environments at a time\n",
    "try:\n",
    "    parallel.shutdown()   \n",
    "except NameError:\n",
    "    pass\n",
    "\n",
    "# Chiose one of the options:\n",
    "\n",
    "parallel = wberri.Parallel(num_cpus=2)\n",
    "#parallel = wberri.Parallel()  # automatic detection \n",
    "#parallel = wberri.Serial()\n",
    "\n"
   ]
  },
  {
   "cell_type": "markdown",
   "id": "e0752c96",
   "metadata": {},
   "source": [
    "## Reading the system\n",
    "\n",
    "Now we need to define the system that we are working on. Wannierberri can equally work with Wannier functions obtained by Wannier90 or other code (e.g. ASE or FPLO), as well as tight-binding models. This is done by constructing a [System()](https://wannier-berri.org/docs/system.html) class or one of its subclasses. Below, an example for Wannier90 is given; in advanced tutorials, some tight-binding models are also used."
   ]
  },
  {
   "cell_type": "code",
   "execution_count": null,
   "id": "1a64528c",
   "metadata": {},
   "outputs": [],
   "source": [
    "# Importing data from wannier90\n",
    "\n",
    "system=wberri.System_w90(\n",
    "                        seedname='w90_files/Fe',\n",
    "                        berry=True,   # needed to calculate \"external terms\" of Berry connection or curvature , reads \".mmn\" file\n",
    "                        spin = True , # needed for spin properties, reads \".spn\" file\n",
    "                        use_wcc_phase=True  # include the fphase actors e^(i*k*r_a) in the Bloch basis state definition\n",
    "                        )\n",
    "\n",
    "generators=[\"Inversion\",\"C4z\",\"TimeReversal*C2x\"]\n",
    "system.set_symmetry(generators)\n"
   ]
  },
  {
   "cell_type": "markdown",
   "id": "ce8257c3",
   "metadata": {},
   "source": [
    "## Interpolation on a path"
   ]
  },
  {
   "cell_type": "code",
   "execution_count": null,
   "id": "7b188b3a-895e-44a7-be28-945c9289d553",
   "metadata": {
    "jupyter": {
     "outputs_hidden": true
    },
    "tags": []
   },
   "outputs": [],
   "source": [
    "# Evaluate bands, Berry curvature, and spin along a path GHPNG\n",
    "\n",
    "\n",
    "# all kpoints given in reduced coordinates\n",
    "path=wberri.Path(system,\n",
    "                 k_nodes=[\n",
    "        [0.0000, 0.0000, 0.0000 ],   #  G \n",
    "        [0.500 ,-0.5000, -0.5000],   #  H \n",
    "        [0.7500, 0.2500, -0.2500],   #  P \n",
    "        [0.5000, 0.0000, -0.5000],   #  N \n",
    "        [0.0000, 0.0000, 0.000  ] ] , #  G \n",
    "                 labels=[\"G\",\"H\",\"P\",\"N\",\"G\"],\n",
    "                 length=200 )   # length [ Ang] ~= 2*pi/dk\n",
    "\n",
    "# uncomment some of these lines to see what path you have generated\n",
    "\n",
    "#print (path)\n",
    "\n",
    "#print (path.getKline())\n",
    "\n",
    "#for K in path.get_K_list():\n",
    "#    print (K)\n",
    "\n",
    "#print (np.array([K.K for K in path.get_K_list()]))\n",
    "\n"
   ]
  },
  {
   "cell_type": "markdown",
   "id": "01657ada",
   "metadata": {},
   "source": [
    "## Running a calculation: calculators and results\n",
    "\n",
    "The calculation is called using the function [`run()`](https://wannier-berri.org/docs/run.html) : \n",
    "\n",
    "```\n",
    "result=wberri.run(system, \n",
    "                  grid=path, \n",
    "                  calculators = {\"key\" : calculator},\n",
    "                  parallel = parallel, \n",
    "                  print_Kpoints = False)\n",
    "```\n",
    "Here, apart from the already known ingredients, we need to define objects of some subclass of [`Calculator`](https://wannier-berri.org/docs/calculators.html#wannierberri.calculators.Calculator). A Calculator is a  callable object which returns some [`Result`](https://wannier-berri.org/docs/result.html). If you code another calculator, you can calculate other things using the machinery of WannierBerri, but that is not a part of this basic tutorial. \n",
    "\n",
    "Further, results are packed into [`ResultDict`](https://wannier-berri.org/docs/result.html#wannierberri.result.ResultDict) and returned. \n",
    "\n",
    "\n",
    "## Tabulating Berry curvature and spin\n",
    "\n",
    "To run a tabulation one needs to compose a dictionary, where keys are any arbitrary strings to label further tabulation results, and the values are subclasses of [`Tabulator`](https://wannier-berri.org/docs/calculators.html#wannierberri.calculators.tabulate.Tabulator)\n",
    "\n",
    "Next, we pack them into another class called [`TabulatorAll`](https://wannier-berri.org/docs/calculators.html#wannierberri.calculators.TabulatorAll), which represents a complex [`Calculator`](https://wannier-berri.org/docs/calculators.html#wannierberri.calculators.Calculator)"
   ]
  },
  {
   "cell_type": "code",
   "execution_count": null,
   "id": "b6e2b217",
   "metadata": {},
   "outputs": [],
   "source": [
    "\n",
    "tabulators = { \"Energy\": wberri.calculators.tabulate.Energy(),\n",
    "               \"berry\" : wberri.calculators.tabulate.BerryCurvature(),\n",
    "             }\n",
    "\n",
    "tab_all_path = wberri.calculators.TabulatorAll(\n",
    "                    tabulators,\n",
    "                    ibands = np.arange(0,18),\n",
    "                    mode = \"path\"\n",
    "                        )"
   ]
  },
  {
   "cell_type": "markdown",
   "id": "0a01d6ee",
   "metadata": {},
   "source": [
    "## Running a calculation\n",
    "\n",
    "Now run the calculation using the function [`run()`](https://wannier-berri.org/docs/run.html) . This will return an object of class [`ResultDict()`](https://wannier-berri.org/docs/result.html#wannierberri.result.ResultDict)\n",
    "This object contains all results of the calculations, but in this case we have only one, which is marked `\"tabulate\"`\n"
   ]
  },
  {
   "cell_type": "code",
   "execution_count": null,
   "id": "55ffd820",
   "metadata": {},
   "outputs": [],
   "source": [
    "result=wberri.run(system, \n",
    "                  grid=path, \n",
    "                  calculators = {\"tabulate\" : tab_all_path},\n",
    "                  parallel = parallel, \n",
    "                  print_Kpoints = False)\n",
    "\n",
    "print (result.results)\n",
    "path_result = result.results[\"tabulate\"]\n"
   ]
  },
  {
   "cell_type": "markdown",
   "id": "69708776",
   "metadata": {},
   "source": [
    "## Plotting the results\n",
    "\n",
    "The [`TABresult`](https://wannier-berri.org/docs/result.html#wannierberri.result.TABresult) object already provides methods to plot the results. (As well as one can extract the data and plot them by other means). Below let's plot the interpolated bands and compare with those obtained in QE. (file \"bands/Fe_bands_pw.dat\" is already provided)\n"
   ]
  },
  {
   "cell_type": "code",
   "execution_count": null,
   "id": "0cf05033",
   "metadata": {},
   "outputs": [],
   "source": [
    "# plot the bands and compare with QuantumEspresso\n",
    "EF = 12.6\n",
    "path_result = result.results[\"tabulate\"]\n",
    "# Import the pre-computed bands from quantum espresso\n",
    "A = np.loadtxt(open(\"bands/Fe_bands_pw.dat\",\"r\"))\n",
    "bohr_ang = scipy.constants.physical_constants['Bohr radius'][0] / 1e-10\n",
    "alatt = 5.4235* bohr_ang\n",
    "A[:,0]*= 2*np.pi/alatt\n",
    "A[:,1]-=EF\n",
    "# plot it as dots\n",
    "plt.scatter (A[:,0],A[:,1],s=5,label = \"QE\")\n",
    "\n",
    "\n",
    "path_result.plot_path_fat( path,\n",
    "              quantity=None,\n",
    "              save_file=\"Fe_bands+QE.pdf\",\n",
    "              Eshift=EF,\n",
    "              Emin=-10,  Emax=50,\n",
    "              iband=None,\n",
    "              mode=\"fatband\",\n",
    "              fatfactor=20,\n",
    "              cut_k=False, \n",
    "              close_fig=False,\n",
    "              show_fig=False,\n",
    "              label = \"WB\"\n",
    "              )\n",
    "\n",
    "\n",
    "plt.legend()\n",
    "plt.show()\n",
    "plt.close()\n"
   ]
  },
  {
   "cell_type": "code",
   "execution_count": null,
   "id": "f607044e",
   "metadata": {},
   "outputs": [],
   "source": [
    "# plot the bands and compare with wannier90\n",
    "A = np.loadtxt(open(\"bands/Fe_bands_w90.dat\",\"r\"))\n",
    "plt.scatter (A[:,0],A[:,1],s=5,label = \"W90\")\n",
    "\n",
    "path_result.plot_path_fat( path,\n",
    "              quantity=None,\n",
    "              save_file=\"Fe_bands+w90.pdf\",\n",
    "              Eshift=0,\n",
    "              Emin=4,  Emax=20,\n",
    "              iband=None,\n",
    "              mode=\"fatband\",\n",
    "              fatfactor=20,\n",
    "              cut_k=False, \n",
    "              close_fig=False,\n",
    "              show_fig=False,\n",
    "              label = \"WB\"\n",
    "              )\n",
    "\n",
    "plt.legend()\n",
    "\n",
    "plt.show()\n",
    "plt.close()"
   ]
  },
  {
   "cell_type": "code",
   "execution_count": null,
   "id": "62785190",
   "metadata": {},
   "outputs": [],
   "source": [
    "# plot the Berry curvature\n",
    "path_result.plot_path_fat( path,\n",
    "              quantity='berry',\n",
    "              component='z',\n",
    "              save_file=\"Fe_bands+berry.pdf\",\n",
    "              Eshift=0,\n",
    "              Emin=4,  Emax=20,\n",
    "              iband=None,\n",
    "              mode=\"fatband\",\n",
    "              fatfactor=4,\n",
    "              cut_k=False, \n",
    "              close_fig=True,\n",
    "              show_fig=True\n",
    "              )\n",
    "\n",
    "# The size of the dots corresponds to the magnitude of BC on a logarithmic scale"
   ]
  },
  {
   "cell_type": "markdown",
   "id": "2455136b",
   "metadata": {},
   "source": [
    "## Problem 1:\n",
    "\n",
    "* modify the path\n",
    "* plot the \"z\" component of spin along it (without . \n",
    "* do **not** plot QE or W90 bands in this case\n",
    "\n",
    "Hint : look here for a proper Calculator https://wannier-berri.org/docs/calculators.html#tabulating\n"
   ]
  },
  {
   "cell_type": "code",
   "execution_count": null,
   "id": "52c6486f",
   "metadata": {},
   "outputs": [],
   "source": [
    "# put the necessary code here\n",
    "\n",
    "\n",
    "\n",
    "\n"
   ]
  },
  {
   "cell_type": "markdown",
   "id": "f96489d7",
   "metadata": {},
   "source": [
    "## Get the data and do whatever you want"
   ]
  },
  {
   "cell_type": "code",
   "execution_count": null,
   "id": "d40b5287",
   "metadata": {},
   "outputs": [],
   "source": [
    "k=path.getKline()\n",
    "E=path_result.get_data(quantity='Energy',iband=(10,11))\n",
    "curv=path_result.get_data(quantity='berry',iband=(10,11),component=\"z\")\n",
    "print (k.shape, E.shape, curv.shape)"
   ]
  },
  {
   "cell_type": "markdown",
   "id": "ca33d65c",
   "metadata": {},
   "source": [
    "## Calaculation on a 3D grid\n",
    "\n",
    "Now let's investigate how Berry curvature behaves in the 3D  Brillouin zone. For that we need to set a grid, which can be done in several ways, see input parameters [here](file:///home/stepan/github/wannier-berri-org/html/docs/grid.html)\n",
    "\n",
    "Most important to recall, is that in WB one sets two grids : the FFT grid and the K-grid (NKdiv). this is important for running the calculation. However, the final; result depends only on their product. "
   ]
  },
  {
   "cell_type": "code",
   "execution_count": null,
   "id": "aa6e88ff",
   "metadata": {},
   "outputs": [],
   "source": [
    "# Set a grid \n",
    "grid = wberri.Grid(system, length=50 )   # length [ Ang] ~= 2*pi/dk\n",
    "#grid = wberri.Grid(system, NK=[24,24,24], NKFFT=4)\n",
    "#grid = wberri.Grid(system, NKdiv=6, NKFFT=4)\n",
    "\n",
    "\n",
    "\n"
   ]
  },
  {
   "cell_type": "markdown",
   "id": "2bbdf8fc",
   "metadata": {},
   "source": [
    "### We can use the same tabulators, but now we pack them into TabulatorAll in \"grid\" mode"
   ]
  },
  {
   "cell_type": "code",
   "execution_count": null,
   "id": "e11dc134",
   "metadata": {},
   "outputs": [],
   "source": [
    "tabulators = { \"Energy\": wberri.calculators.tabulate.Energy(),\n",
    "               \"berry\" : wberri.calculators.tabulate.BerryCurvature(),\n",
    "             }\n",
    "\n",
    "tab_all_grid = wberri.calculators.TabulatorAll(\n",
    "                    tabulators,\n",
    "                    ibands = np.arange(0,18),\n",
    "                    mode = \"grid\"\n",
    "                        )"
   ]
  },
  {
   "cell_type": "markdown",
   "id": "78e8771d",
   "metadata": {},
   "source": [
    "### And we run the calculation in the same way"
   ]
  },
  {
   "cell_type": "code",
   "execution_count": null,
   "id": "d7515feb",
   "metadata": {},
   "outputs": [],
   "source": [
    "result=wberri.run(system, \n",
    "                  grid=grid, \n",
    "                  calculators = {\"tabulate\" : tab_all_grid},\n",
    "                  parallel = parallel, \n",
    "                  print_Kpoints = True)\n",
    "\n",
    "print (result.results)\n",
    "grid_result = result.results[\"tabulate\"]"
   ]
  },
  {
   "cell_type": "code",
   "execution_count": null,
   "id": "7b8aa91e",
   "metadata": {},
   "outputs": [],
   "source": [
    "# Now we got some .frmsf files\n",
    "!ls -al *.frmsf\n",
    "#!rm *.frmsf"
   ]
  },
  {
   "cell_type": "code",
   "execution_count": null,
   "id": "786bb7cd",
   "metadata": {},
   "outputs": [],
   "source": [
    "# let's look at them using the Fermisurfer! (https://fermisurfer.osdn.jp/)\n",
    "#> fermisurfer Fe_berry_z.frmsf"
   ]
  },
  {
   "cell_type": "markdown",
   "id": "dfed8c32",
   "metadata": {},
   "source": [
    "## Analyze the tabulated data"
   ]
  },
  {
   "cell_type": "code",
   "execution_count": null,
   "id": "d41e6a7c",
   "metadata": {},
   "outputs": [],
   "source": [
    "# You may get the data as numpy arrays via:\n",
    "Energy = grid_result.get_data(iband=5, quantity='Energy')\n",
    "berry  = grid_result.get_data(iband=5, quantity='berry',component='z')\n",
    "print(berry.shape,Energy.shape)"
   ]
  },
  {
   "cell_type": "markdown",
   "id": "a373cc7b",
   "metadata": {},
   "source": [
    "## Problem 2 : \n",
    "\n",
    "### fill the missing parts and evaluate the Berry curvature summed over all states below EF = 12.6 eV. Plot in on a plane k3=const (in reduced coordinates)"
   ]
  },
  {
   "cell_type": "code",
   "execution_count": null,
   "id": "efe0797d",
   "metadata": {},
   "outputs": [],
   "source": [
    "# example : find the total Berry curvature of occupied states\n",
    "# on the plane (k1,k2), k3=const (in reduced coordinates)\n",
    "Berry_occ = 0\n",
    "k3 = 9\n",
    "EF=12.4\n",
    "for ib in range(18):\n",
    "    Energy = grid_result.get_data(iband=ib, quantity='Energy')[:,:,0]\n",
    "    berry  = grid_result.get_data(iband=ib, quantity='berry',component='z')[:,:,0]\n",
    "    berry [Energy>EF] = 0\n",
    "    Berry_occ += berry\n",
    "    plt.contour(Energy,levels = [EF],linewidths=0.5,colors='black')\n",
    "shw = plt.imshow(Berry_occ,vmin=-10,vmax=10,cmap=\"jet\")\n",
    "bar = plt.colorbar(shw)"
   ]
  },
  {
   "cell_type": "markdown",
   "id": "15a519fb",
   "metadata": {},
   "source": [
    "## Integration on a grid: anomalous Hall conductivity\n",
    "\n",
    "Now, after we saw that the Berry curvature changes rapidly in the k-space, we understand that to get the precise value of AHC (\\ref{eq:ahc}) defined as a Fermi-sea integral of Berry curvature\n",
    "\n",
    "\\begin{equation}\n",
    "\\sigma^{\\rm AHC}_{xy} = -\\frac{e^2}{\\hbar} \\sum_n^{\\rm occ} \\int\\frac{d\\mathbf{k}}{(2\\pi)^3} \\Omega^n_\\gamma\n",
    "\\label{eq:ahc}\\tag{1}\n",
    "\\end{equation}\n",
    "\n",
    "we need a very dense grid. The calculation is done again, by using the calculators. AHC may be viewed as a function of the Fermi level. Such calculators are called [StaticCalculator](https://wannier-berri.org/docs/calculators.html#static-dependent-only-on-fermi-level) , because the corresponding effects can be measured in static fields. (as opposed to dynamic calculators, see below)."
   ]
  },
  {
   "cell_type": "code",
   "execution_count": null,
   "id": "d987052a",
   "metadata": {},
   "outputs": [],
   "source": [
    "calculators = {}\n",
    "Efermi = np.linspace(12,13,101)\n",
    "omega = np.linspace(0,1.,101)\n",
    "# Set a grid \n",
    "grid = wberri.Grid(system, length=50 )   # length [ Ang] ~= 2*pi/dk\n",
    "\n",
    "calculators [\"ahc\"] = wberri.calculators.static.AHC(Efermi=Efermi)\n",
    "\n",
    "result_run = wberri.run(system,\n",
    "            grid=grid,\n",
    "            calculators = calculators,\n",
    "            parallel=parallel,\n",
    "            adpt_num_iter=5,\n",
    "            fout_name='Fe',\n",
    "            restart=False,\n",
    "            file_Klist=\"Klist_ahc.pickle\"  # needed to restart a calculation in future\n",
    "            )\n",
    "\n"
   ]
  },
  {
   "cell_type": "code",
   "execution_count": null,
   "id": "bf1adc14",
   "metadata": {},
   "outputs": [],
   "source": [
    "!ls"
   ]
  },
  {
   "cell_type": "code",
   "execution_count": null,
   "id": "f68bd818",
   "metadata": {},
   "outputs": [],
   "source": [
    "#plot results from different iterations\n",
    "for i in range(5):\n",
    "    a = np.loadtxt(f\"Fe-ahc_iter-{i:04d}.dat\")\n",
    "    plt.plot(a[:,0],a[:,3],label = f\"iteration-{i}\")\n",
    "#plt.ylim(-1000,1000)\n",
    "plt.legend()\n",
    "plt.show()"
   ]
  },
  {
   "cell_type": "code",
   "execution_count": null,
   "id": "24c97e3d",
   "metadata": {},
   "outputs": [],
   "source": [
    "result_run = wberri.run(system,\n",
    "            grid=grid,\n",
    "            calculators = calculators,\n",
    "            parallel=parallel,\n",
    "            adpt_num_iter=10,\n",
    "            fout_name='Fe',\n",
    "            restart=True,\n",
    "            file_Klist=\"Klist_ahc.pickle\"  # needed to restart a calculation\n",
    "            )"
   ]
  },
  {
   "cell_type": "code",
   "execution_count": null,
   "id": "8af1e1b0",
   "metadata": {},
   "outputs": [],
   "source": [
    "#plot results from different iterations\n",
    "for i in range(10,15):\n",
    "    a = np.loadtxt(f\"Fe-ahc_iter-{i:04d}.dat\")\n",
    "    ef = a[:,0] \n",
    "    ahc_xy = a[:,3]\n",
    "    # alternatively:\n",
    "    #res = np.load(f\"Fe-ahc_iter-{i:04d}.npz\")\n",
    "    #print (list(res.keys()))\n",
    "    #ef = res[\"Energies_0\"]\n",
    "    #ahc_xy = res[\"data\"][:,2]\n",
    "    plt.plot(ef,ahc_xy,label = f\"iteration-{i}\")\n",
    "#plt.ylim(-1000,1000)\n",
    "plt.legend()\n",
    "plt.show()"
   ]
  },
  {
   "cell_type": "markdown",
   "id": "5198385d",
   "metadata": {},
   "source": [
    "## Problem 3 : \n",
    "### start from a denser grid (length=100 or 200) and do the integration again with 20 iterations. Plot the results"
   ]
  },
  {
   "cell_type": "code",
   "execution_count": null,
   "id": "06b59fb5",
   "metadata": {},
   "outputs": [],
   "source": [
    "# insert the needed code below\n",
    "\n",
    "\n"
   ]
  },
  {
   "cell_type": "markdown",
   "id": "f55099f1",
   "metadata": {},
   "source": [
    "## Tetrahedron method"
   ]
  },
  {
   "cell_type": "code",
   "execution_count": null,
   "id": "70fef5a7",
   "metadata": {},
   "outputs": [],
   "source": [
    "calculators = {}\n",
    "Efermi = np.linspace(12,13,101)\n",
    "omega = np.linspace(0,1.,101)\n",
    "# Set a grid \n",
    "grid = wberri.Grid(system, length=50 )   # length [ Ang] ~= 2*pi/dk\n",
    "\n",
    "calculators [\"dos_notetra\"] = wberri.calculators.static.DOS(Efermi=Efermi,tetra=False)\n",
    "calculators [\"dos_tetra\"] = wberri.calculators.static.DOS(Efermi=Efermi,tetra=True)\n",
    "\n",
    "result_run = wberri.run(system,\n",
    "            grid=grid,\n",
    "            calculators = calculators,\n",
    "            parallel=parallel,\n",
    "            adpt_num_iter=0,\n",
    "            fout_name='Fe',\n",
    "            suffix = \"run2\",\n",
    "            restart=False,\n",
    "            print_Kpoints=False\n",
    "            )\n",
    "\n",
    "a = np.loadtxt(f\"Fe-dos_notetra-run2_iter-0000.dat\")\n",
    "plt.plot(a[:,0],a[:,1],label = f\"no tetra\")\n",
    "a = np.loadtxt(f\"Fe-dos_tetra-run2_iter-0000.dat\")\n",
    "plt.plot(a[:,0],a[:,1],label = f\"tetra\")\n",
    "plt.legend()"
   ]
  },
  {
   "cell_type": "code",
   "execution_count": null,
   "id": "02fbb34c",
   "metadata": {},
   "outputs": [],
   "source": [
    "!ls\n"
   ]
  },
  {
   "cell_type": "markdown",
   "id": "405a117f",
   "metadata": {},
   "source": [
    "## Optical conductivity"
   ]
  },
  {
   "cell_type": "code",
   "execution_count": null,
   "id": "d5828ef9",
   "metadata": {},
   "outputs": [],
   "source": [
    "calculators = {}\n",
    "Efermi = np.linspace(12,13,101)\n",
    "omega = np.linspace(0,1.,101)\n",
    "# Set a grid \n",
    "grid = wberri.Grid(system, length=50 )   # length [ Ang] ~= 2*pi/dk\n",
    "\n",
    "calculators[\"opt_conductivity\"] = wberri.calculators.dynamic.OpticalConductivity(\n",
    "                            Efermi=Efermi,omega=omega)\n",
    "\n",
    "\n",
    "result_run_opt = wberri.run(system,\n",
    "            grid=grid,\n",
    "            calculators = calculators,\n",
    "            parallel=parallel,\n",
    "            adpt_num_iter=0,\n",
    "            fout_name='Fe',\n",
    "            suffix = \"run3\",\n",
    "            restart=False,\n",
    "            )"
   ]
  },
  {
   "cell_type": "code",
   "execution_count": null,
   "id": "c7440ef9",
   "metadata": {},
   "outputs": [],
   "source": [
    "#plot results from new iterations\n",
    "res = result_run_opt.results[\"opt_conductivity\"]\n",
    "print (res.data.shape)\n",
    "print (res.Energies[0]) # Efermi\n",
    "print (res.Energies[1]) # omega\n",
    "\n",
    "# plot at fixed omega\n",
    "iw = 10\n",
    "plt.plot(res.Energies[0],data[:,iw,2,2].imag)\n",
    "plt.show()\n",
    "\n",
    "# plot at fixed Efermi\n",
    "ief = 20\n",
    "plt.plot(res.Energies[1],data[ief,:,2,2].imag)\n",
    "plt.show()\n"
   ]
  },
  {
   "cell_type": "code",
   "execution_count": null,
   "id": "8ff96847",
   "metadata": {},
   "outputs": [],
   "source": [
    "!ls"
   ]
  },
  {
   "cell_type": "markdown",
   "id": "ecccf4de",
   "metadata": {},
   "source": [
    "## All in one"
   ]
  },
  {
   "cell_type": "code",
   "execution_count": null,
   "id": "fe15e3f8",
   "metadata": {},
   "outputs": [],
   "source": [
    "calculators = {}\n",
    "Efermi = np.linspace(12,13,101)\n",
    "omega = np.linspace(0,1.,101)\n",
    "# Set a grid \n",
    "grid = wberri.Grid(system, length=50 )   # length [ Ang] ~= 2*pi/dk\n",
    "\n",
    "calculators [\"ahc_notetra\"] = wberri.calculators.static.AHC(Efermi=Efermi,tetra=False)\n",
    "calculators [\"ahc_tetra\"] = wberri.calculators.static.AHC(Efermi=Efermi,tetra=True)\n",
    "calculators [\"tabulate\"] = wberri.calculators.TabulatorAll({\n",
    "                            \"Energy\":wberri.calculators.tabulate.Energy(),\n",
    "                            \"berry\":wberri.calculators.tabulate.BerryCurvature(),\n",
    "                                  },   \n",
    "                            ibands = np.arange(4,10))\n",
    "calculators[\"opt_conductivity\"] = wberri.calculators.dynamic.OpticalConductivity(\n",
    "                            Efermi=Efermi,omega=omega)\n",
    "\n",
    "\n",
    "result_run = wberri.run(system,\n",
    "            grid=grid,\n",
    "            calculators = calculators,\n",
    "            parallel=parallel,\n",
    "            adpt_num_iter=0,\n",
    "            fout_name='Fe',\n",
    "            suffix = \"run\",\n",
    "            restart=False,\n",
    "            )"
   ]
  },
  {
   "cell_type": "code",
   "execution_count": null,
   "id": "f125e915",
   "metadata": {},
   "outputs": [],
   "source": []
  }
 ],
 "metadata": {
  "kernelspec": {
   "display_name": "Python 3 (ipykernel)",
   "language": "python",
   "name": "python3"
  },
  "language_info": {
   "codemirror_mode": {
    "name": "ipython",
    "version": 3
   },
   "file_extension": ".py",
   "mimetype": "text/x-python",
   "name": "python",
   "nbconvert_exporter": "python",
   "pygments_lexer": "ipython3",
   "version": "3.8.10"
  }
 },
 "nbformat": 4,
 "nbformat_minor": 5
}
