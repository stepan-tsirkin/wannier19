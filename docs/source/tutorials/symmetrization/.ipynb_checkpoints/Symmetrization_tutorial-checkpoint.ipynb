{
 "cells": [
  {
   "cell_type": "markdown",
   "metadata": {},
   "source": [
    "# Symmetrization of Wannier Hamiltonian and matrices "
   ]
  },
  {
   "cell_type": "markdown",
   "metadata": {},
   "source": [
    "By Xiaoxiong Liu : xxliu@physik.uzh.ch"
   ]
  },
  {
   "cell_type": "markdown",
   "metadata": {},
   "source": [
    "The real-space Wannier Hamiltonian obtained by Wannier90 code generally does not strictly preserve the corresponding symmetry. The slight loss of symmetry will gap the expected band intersections. Berry curvature and orbital magnetic moment are more sensitive to symmetry than energy eigenvalues. In the following, I give details about the symmetrization of Wannier Hamiltonian and matrices.\n",
    "\n",
    "In WannierBerri, our built-in symmetrization method can enforce symmetrizing Wannier Hamiltonian (Ham_R) and matrices (AA_R, BB_R, CC_R, SS_R) after reading them.\n",
    "\n",
    "$Ham\\_R = <n0|\\hat{H}|mR>$\n",
    "\n",
    "$AA\\_R = <n0|\\hat{r}|mR>$\n",
    "\n",
    "$BB\\_R = <n0|\\hat{H}\\cdot(\\hat{r}-\\hat{R})|mR>$\n",
    "\n",
    "$CC\\_R_c = i \\epsilon_{abc} <n0|\\hat{r}_a\\cdot\\hat{H}\\cdot(\\hat{r}_b-\\hat{R}_b)|mR>$\n",
    "\n",
    "$SS\\_R = <n0|\\hat{\\sigma}|mR>$\n",
    "\n",
    "They are needed when calculating different quantities:\n",
    "1. Energy eigenvalue  <-- Ham_R\n",
    "2. Berry Curvature  <-- Ham_R, AA_R\n",
    "3. Orbital magnetic moment  <-- Ham_R, AA_R, BB_R, CC_R\n",
    "4. Spin magnetic moment  <-- SS_R\n",
    "\n",
    "NOTE: This method only works with Wannier Hamiltonian without maximal localized. \n",
    "\n",
    "We will show you two examples:\n",
    "1. Symmetrize nonmagnetic system with SOC (trigonal Te)\n",
    "2. Symmetrize magnetic system with SOC (bcc Fe)"
   ]
  },
  {
   "cell_type": "code",
   "execution_count": 1,
   "metadata": {},
   "outputs": [],
   "source": [
    "#import necessary packages\n",
    "import wannierberri as wberri\n",
    "import numpy as np\n",
    "import matplotlib.pyplot as plt #for plotting figures"
   ]
  },
  {
   "cell_type": "markdown",
   "metadata": {},
   "source": [
    "## Nonmagnetic system (trigonal Te)"
   ]
  },
  {
   "cell_type": "code",
   "execution_count": 2,
   "metadata": {},
   "outputs": [
    {
     "ename": "SyntaxError",
     "evalue": "invalid syntax (2672604847.py, line 10)",
     "output_type": "error",
     "traceback": [
      "\u001b[0;36m  File \u001b[0;32m\"/var/folders/v0/p_7q2yzd7g3cb_d57qlv1ylh0000gn/T/ipykernel_28976/2672604847.py\"\u001b[0;36m, line \u001b[0;32m10\u001b[0m\n\u001b[0;31m    positions = np.array([[0.274, 0.274, 0.0],\u001b[0m\n\u001b[0m    ^\u001b[0m\n\u001b[0;31mSyntaxError\u001b[0m\u001b[0;31m:\u001b[0m invalid syntax\n"
     ]
    }
   ],
   "source": [
    "#Reading Wannier Hamiltonian and position element matrix from Te_tb.dat file.\n",
    "#We bulit to system, `system_Te` without symmetrization and `system_Te_sym` with symmetrization\n",
    "\n",
    "system_Te=wberri.System_tb(tb_file='./Te_data/Te_tb.dat',berry=True,use_ws=False)\n",
    "system_Te_sym=wberri.System_tb(tb_file='./Te_data/Te_tb.dat',berry=True,use_ws=False)\n",
    "\n",
    "#Symmetrization step.\n",
    "system_Te_sym.symmetrize(use_ws\n",
    "    # positions: positions of each atoms in a unitcell (direct coordinate system)\n",
    "    positions = np.array([[0.274, 0.274, 0.0],   \n",
    "                    [0.726, 0.0, 0.33333333],\n",
    "                   [0.0, 0.726, 0.66666667]]),\n",
    "    # atom_name: name of each atoms, need to correspond to position order.\n",
    "    atom_name = ['Te','Te','Te'],\n",
    "    # projections: should be the same with projection card in wannier90.win\n",
    "    proj = ['Te:s','Te:p'],\n",
    "    # soc: with soc or spinless\n",
    "    soc=True,\n",
    "    # DFT_code: What code was used to complet the DFT calculation. only support VASP and QE now.\n",
    "    DFT_code='vasp',\n",
    "    )"
   ]
  },
  {
   "cell_type": "markdown",
   "metadata": {},
   "source": [
    "Output card `Wannier atoms info` is showing informations about orbitals.\n",
    "\n",
    "Line `(1, 'Te', array([0.274, 0.274, 0.   ]), ['s', 'p'], [[0, 12], [3, 4, 5, 15, 16, 17]])` read as:\n",
    "First atoms is Te at position 0.274, 0.274, 0. It contribute orbital $s$ and $p$. Index of s-orbitals are 0 and 12. Index of d-orbitals are 3, 4, 5, 15, 16, 17.\n",
    "\n",
    "Informations of space group are showed as well.\n",
    "\n",
    "We can check if real space Hamiltonian are symmetrized."
   ]
  },
  {
   "cell_type": "code",
   "execution_count": null,
   "metadata": {},
   "outputs": [],
   "source": [
    "#We check symmetry with operator 1 from Space group informations in the output.\n",
    "#prepare operator\n",
    "rot = np.array([[0., -1., 0.],[1, -1, 0.],[0., 0., 1.]]) # rotation matrix (direct)\n",
    "trans = np.array([0., 0., 1./3.])  #translation (direct)"
   ]
  },
  {
   "cell_type": "code",
   "execution_count": null,
   "metadata": {},
   "outputs": [],
   "source": [
    "#After operation, position of Te_1 match Te_2.\n",
    "Te_1_position = np.array([0.274, 0.274, 0.])\n",
    "position_rot = rot @ Te_1_position + trans\n",
    "print('Before operation', Te_1_position)\n",
    "print('After operation', position_rot, 'match Te_2_position')"
   ]
  },
  {
   "cell_type": "markdown",
   "metadata": {},
   "source": [
    "So the on-site energy of Te_1 s-orbitals should match on-site energy of Te_1 s-orbitals as well."
   ]
  },
  {
   "cell_type": "code",
   "execution_count": null,
   "metadata": {},
   "outputs": [],
   "source": [
    "#Check unsymmetrized system\n",
    "\n",
    "#find index of R=[0,0,0] in R-vector list\n",
    "#dimension of Hamiltonian is [num_wann, num_wann, num_Rvec]\n",
    "R0 = system_Te.iRvec.tolist().index([0,0,0])\n",
    "onsite_Te_1 = np.diagonal(system_Te.Ham_R[:,:,R0]).real[np.array([0, 12])]\n",
    "onsite_Te_2 = np.diagonal(system_Te.Ham_R[:,:,R0]).real[np.array([1, 13])]\n",
    "\n",
    "print('unsymmetrized')\n",
    "print('on-site energy of Te_1 orbitals')\n",
    "print(onsite_Te_1)\n",
    "print('on-site energy of Te_2 orbitals')\n",
    "print(onsite_Te_2)\n",
    "print('not totaly the same')"
   ]
  },
  {
   "cell_type": "code",
   "execution_count": null,
   "metadata": {},
   "outputs": [],
   "source": [
    "#Check symmetrized system\n",
    "\n",
    "#find index of R=[0,0,0] in R-vector list\n",
    "#dimension of Hamiltonian is [num_wann, num_wann, num_Rvec]\n",
    "R0 = system_Te.iRvec.tolist().index([0,0,0])\n",
    "onsite_Te_1_sym = np.diagonal(system_Te_sym.Ham_R[:,:,R0]).real[np.array([0, 12])]\n",
    "onsite_Te_2_sym = np.diagonal(system_Te_sym.Ham_R[:,:,R0]).real[np.array([1, 13])]\n",
    "\n",
    "print('symmetrized')\n",
    "print('on-site energy of Te_1 orbitals')\n",
    "print(onsite_Te_1_sym)\n",
    "print('on-site energy of Te_2 orbitals')\n",
    "print(onsite_Te_2_sym)\n",
    "print('totaly the same')"
   ]
  },
  {
   "cell_type": "markdown",
   "metadata": {},
   "source": [
    "Checking band structures in k-space.\n",
    "\n",
    "The Brillouin zone of trigonal Te is:\n",
    "<img src=\"./Te_data/Te_BZ.png\" width=\"300\">\n",
    "We only consider kz=$\\pi$ plane. \n",
    "<img src=\"./Te_data/Te_kz=pi.png\" width=\"300\">\n",
    "The band structures of the three path:\n",
    "\n",
    "L1 -> H -> A1\n",
    "\n",
    "L2 -> H -> A2\n",
    "\n",
    "L3 -> H -> A3\n",
    "\n",
    "should be the same because of C3 rotation symmetry.\n",
    "\n",
    "But the Wannier Hamitonian break the symmetries slightly. So the band structure of the three path may not the same.\n",
    "\n",
    "After symmetrization they are the same.\n"
   ]
  },
  {
   "cell_type": "code",
   "execution_count": null,
   "metadata": {},
   "outputs": [],
   "source": [
    "#generate k-path\n",
    "path=wberri.Path(system_Te,\n",
    "    #start and end points of k_path.\n",
    "    #If two paths are not consencutive, put `None` between them. \n",
    "    k_nodes=[[0,0.5,0.5],[1./3,1./3,0.5],[1.,0.,0.5],None, \n",
    "            [0.5,0.,0.5],[1./3,1./3,0.5],[0.,1.,0.5],None,\n",
    "            [0.5,0.5,0.5],[1./3,1./3,0.5],[0.,0.,0.5]],\n",
    "    labels=[\"L1\",\"H\",\"A1\",\"L3\",\"H\",\"A3\",\"L2\",\"H\",\"A2\"],\n",
    "    #length: proportional to number of kpoints.\n",
    "    length=1000) \n",
    "\n",
    "#calculate band structure with unsymmetrized and symmetrized system.\n",
    "quantities = {\"Energy\":wberri.calculators.tabulate.Energy()}\n",
    "\n",
    "calculators={}\n",
    "calculators [\"tabulate\"] = wberri.calculators.TabulatorAll(quantities,ibands=[18,19],mode=\"path\")\n",
    "\n",
    "path_result_Te = wberri.run(\n",
    "        system=system_Te,\n",
    "        grid=path,\n",
    "        calculators=calculators)\n",
    "path_result_Te_sym = wberri.run(\n",
    "        system=system_Te_sym,\n",
    "        grid=path,\n",
    "        calculators=calculators)"
   ]
  },
  {
   "cell_type": "code",
   "execution_count": null,
   "metadata": {},
   "outputs": [],
   "source": [
    "#read energy eigenvalue data of band 18 and 19 from results.\n",
    "band_Te = path_result_Te.results['tabulate'].get_data(quantity='Energy',iband=(0,1))\n",
    "band_Te_sym = path_result_Te_sym.results['tabulate'].get_data(quantity='Energy',iband=(0,1))\n",
    "#read k-path data\n",
    "band_k=path.getKline()"
   ]
  },
  {
   "cell_type": "code",
   "execution_count": null,
   "metadata": {},
   "outputs": [],
   "source": [
    "#plot band structure with unsymmetrized system\n",
    "NK=len(band_k)\n",
    "colour = ['r','y','b']\n",
    "NK_one = NK//3\n",
    "plt.figure()\n",
    "for i in range(3):\n",
    "    plt.plot(band_k[0:NK_one],band_Te[NK_one*i:NK_one*(i+1)],colour[i],linewidth=5)\n",
    "plt.ylabel('Energy (eV)')\n",
    "plt.xlabel('L -> H -> A')"
   ]
  },
  {
   "cell_type": "code",
   "execution_count": null,
   "metadata": {},
   "outputs": [],
   "source": [
    "#plot band structure with symmetrized system\n",
    "plt.figure()\n",
    "for i in range(3):\n",
    "    plt.plot(band_k[0:NK_one],band_Te_sym[NK_one*i:NK_one*(i+1)],colour[i],linewidth=5)\n",
    "plt.ylabel('Energy (eV)')\n",
    "plt.xlabel('L -> H -> A')"
   ]
  },
  {
   "cell_type": "markdown",
   "metadata": {},
   "source": [
    "Symmetrization fix the symmetries of Hamiltonian\n",
    "\n",
    "The Berry curvature is more sensitive to symmetry than energy eigenvalues."
   ]
  },
  {
   "cell_type": "code",
   "execution_count": null,
   "metadata": {},
   "outputs": [],
   "source": [
    "# calculate Berry curvature alone a k-path.\n",
    "path_berry=wberri.Path(system_Te,\n",
    "                 k_nodes=[[0,0.5,0.5],[1./3,1./3,0.5],[1./3,1./3,0.]],\n",
    "                 labels=[\"L\",\"H\",\"K\",],\n",
    "                 length=500)\n",
    "\n",
    "quantities = {\"Energy\":wberri.calculators.tabulate.Energy(),\n",
    "              \"berry\":wberri.calculators.tabulate.BerryCurvature(),}\n",
    "\n",
    "calculators={}\n",
    "calculators [\"tabulate\"] = wberri.calculators.TabulatorAll(quantities,ibands=[18,19],mode=\"path\")\n",
    "\n",
    "berry_result_Te = wberri.run(\n",
    "        system=system_Te,\n",
    "        grid=path_berry,\n",
    "        calculators=calculators)\n",
    "\n",
    "berry_result_Te_sym = wberri.run(\n",
    "        system=system_Te_sym,\n",
    "        grid=path_berry,\n",
    "        calculators=calculators)"
   ]
  },
  {
   "cell_type": "code",
   "execution_count": null,
   "metadata": {},
   "outputs": [],
   "source": [
    "# use built-in plotting method to plot berry cuvature.\n",
    "# red means positive, blue means negative.\n",
    "# size of the dots shows the amplitude of the quantity.\n",
    "# unsymmetrized:\n",
    "berry_result_Te.results['tabulate'].plot_path_fat(path_berry,\n",
    "              quantity='berry',\n",
    "              component='z', # only take z compoment\n",
    "              Emin=6.0,  Emax=6.8,\n",
    "              mode=\"fatband\",\n",
    "              fatfactor=20,  # size of dots.\n",
    "              )"
   ]
  },
  {
   "cell_type": "code",
   "execution_count": null,
   "metadata": {},
   "outputs": [],
   "source": [
    "# symmetrized: \n",
    "berry_result_Te_sym.results['tabulate'].plot_path_fat(path_berry,\n",
    "              quantity='berry',\n",
    "              component='z', # only take z compoment\n",
    "              Emin=6.0,  Emax=6.8,\n",
    "              mode=\"fatband\",\n",
    "              fatfactor=20,  # size of dots.\n",
    "              )"
   ]
  },
  {
   "cell_type": "markdown",
   "metadata": {},
   "source": [
    "z-component of Berry curvature alone L-H path should be zero because of symmetry. The loss of symmetry has a big impact to Berry curvature of single k-point. It is fixed by symmetrization."
   ]
  },
  {
   "cell_type": "markdown",
   "metadata": {},
   "source": [
    "## Magnetic system with SOC (bcc Fe)"
   ]
  },
  {
   "cell_type": "markdown",
   "metadata": {},
   "source": [
    "bcc Fe is a magnetic system with magnetic moment -2.31 \\mu_B point to -z direction of cartesian coordinate system of lattice. We need to set parameter 'magmom'."
   ]
  },
  {
   "cell_type": "code",
   "execution_count": null,
   "metadata": {},
   "outputs": [],
   "source": [
    "system_Fe=wberri.System_tb(tb_file='./Fe_data/Fe_tb.dat',berry=True, use_ws=False)\n",
    "system_Fe_sym=wberri.System_tb(tb_file='./Fe_data/Fe_tb.dat',berry=True, use_ws=False)\n",
    "system_Fe_sym.symmetrize(\n",
    "             proj = ['Fe:sp3d2;t2g'],\n",
    "             atom_name = ['Fe'],\n",
    "             positions = [[0,0,0]],\n",
    "             #magmom: magnetic moment of each atoms.\n",
    "             magmom = [[0.,0.,-2.31]],\n",
    "             soc=True,\n",
    "             DFT_code = 'qe'\n",
    "             )\n"
   ]
  },
  {
   "cell_type": "markdown",
   "metadata": {},
   "source": [
    "Important explanations:\n",
    "1. The projection card in wannier90.win of bcc Fe is `'Fe':sp3d2;dxz,dyz,dxy`. But in the symmetrization, orbitals must project to complete sets of coordinates after symmetry opration. So we must label orbitals which shares the same complete sets of coordinates. eg: `sp3d2, dxz,dyz,dxy -> sp3d2, t2g` and `sp,px,py -> sp,p2`\n",
    "2. We print out all the symmetry operators in the space group. But magnetic moments break some of them. Afte line `Symmetrizing start`. You can find details about which operator belong to the magnetic group."
   ]
  },
  {
   "cell_type": "markdown",
   "metadata": {},
   "source": [
    "bcc Fe have inversion symmetry, so the Berry curvature dipole should be zero. Ref: https://journals.aps.org/prl/pdf/10.1103/PhysRevLett.115.216806"
   ]
  },
  {
   "cell_type": "code",
   "execution_count": null,
   "metadata": {},
   "outputs": [],
   "source": [
    "#calculate berry curvature dipole\n",
    "Efermi_Fe = np.linspace(15.5,16,301)\n",
    "NK = 10\n",
    "result_Fe = wberri.run(system_Fe,\n",
    "            grid=wberri.Grid(system_Fe,NK=NK,NKFFT=1),\n",
    "            calculators = {\"BerryDipole\":wberri.calculators.static.BerryDipole_FermiSea(Efermi=Efermi_Fe,tetra=True)},\n",
    "            adpt_num_iter=0,\n",
    "            fout_name='Fe',\n",
    "            restart=False,\n",
    "            )\n",
    "result_Fe_sym = wberri.run(system_Fe_sym,\n",
    "            grid=wberri.Grid(system_Fe_sym,NK=NK,NKFFT=1),\n",
    "            calculators = {\"BerryDipole\":wberri.calculators.static.BerryDipole_FermiSea(Efermi=Efermi_Fe,tetra=True)},\n",
    "            adpt_num_iter=0,\n",
    "            fout_name='Fe_sym',\n",
    "            restart=False,\n",
    "            )"
   ]
  },
  {
   "cell_type": "code",
   "execution_count": null,
   "metadata": {},
   "outputs": [],
   "source": [
    "#read data\n",
    "Fe_BCD = result_Fe.results[\"BerryDipole\"].data \n",
    "Fe_sym_BCD = result_Fe_sym.results[\"BerryDipole\"].data"
   ]
  },
  {
   "cell_type": "code",
   "execution_count": null,
   "metadata": {},
   "outputs": [],
   "source": [
    "#unsymmetrized\n",
    "#print zz component of berry dipole\n",
    "fig=plt.figure()\n",
    "plt.plot(Efermi_Fe,Fe_BCD[:,2,2],'r',label=\"Unsymmetrized\") \n",
    "plt.plot(Efermi_Fe,Fe_sym_BCD[:,2,2],'b:',label=\"Symmetrized\") \n",
    "plt.legend()\n",
    "plt.xlabel('Energy (eV)')\n",
    "plt.ylabel('Berry curvature dipole')"
   ]
  },
  {
   "cell_type": "markdown",
   "metadata": {},
   "source": [
    "Symmetrized system gives us better results with low-density k-grid. But it still looks like not perfect zero. At some energy where have band intersections, we can see some little peaks come from digital error. There are very large Berry curvature and it's derivative around band intersections. They may enlarge digital errors. "
   ]
  }
 ],
 "metadata": {
  "kernelspec": {
   "display_name": "Python 3 (ipykernel)",
   "language": "python",
   "name": "python3"
  },
  "language_info": {
   "codemirror_mode": {
    "name": "ipython",
    "version": 3
   },
   "file_extension": ".py",
   "mimetype": "text/x-python",
   "name": "python",
   "nbconvert_exporter": "python",
   "pygments_lexer": "ipython3",
   "version": "3.8.10"
  }
 },
 "nbformat": 4,
 "nbformat_minor": 4
}
