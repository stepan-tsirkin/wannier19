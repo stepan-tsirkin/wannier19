{
 "cells": [
  {
   "cell_type": "markdown",
   "id": "d9f8bd47",
   "metadata": {},
   "source": [
    "# K.P model for Weyl fermions\n",
    "\n",
    "In this tutorial we wil investigate the properties of a Weyl Hamiltonian"
   ]
  },
  {
   "cell_type": "markdown",
   "id": "9f673bc5",
   "metadata": {},
   "source": [
    "# First, import needed modules"
   ]
  },
  {
   "cell_type": "code",
   "execution_count": 1,
   "id": "f1483600",
   "metadata": {},
   "outputs": [
    {
     "name": "stdout",
     "output_type": "stream",
     "text": [
      "Using WannierBerri version 0.14.3.lindhard\n"
     ]
    }
   ],
   "source": [
    "# So, first import the necessary modules\n",
    "\n",
    "import wannierberri as wberri\n",
    "print (f\"Using WannierBerri version {wberri.__version__}\")\n",
    "import pythtb\n",
    "import numpy as np\n",
    "from copy import copy, deepcopy\n",
    "import matplotlib.pyplot as plt"
   ]
  },
  {
   "cell_type": "markdown",
   "id": "6af7bf7a",
   "metadata": {},
   "source": [
    "## Define Parallel environment"
   ]
  },
  {
   "cell_type": "code",
   "execution_count": 2,
   "id": "a69df89d",
   "metadata": {},
   "outputs": [
    {
     "name": "stderr",
     "output_type": "stream",
     "text": [
      "2023-10-25 15:42:54,576\tINFO worker.py:1519 -- Started a local Ray instance. View the dashboard at \u001b[1m\u001b[32m127.0.0.1:8266 \u001b[39m\u001b[22m\n"
     ]
    }
   ],
   "source": [
    "#  This block is needed if you run this cell for a second time\n",
    "#  because one cannot initiate two parallel environments at a time\n",
    "try:\n",
    "    parallel.shutdown()\n",
    "except NameError:\n",
    "    pass\n",
    "\n",
    "# Chiose one of the options:\n",
    "\n",
    "#parallel = wberri.Parallel(num_cpus=2)\n",
    "parallel = wberri.Parallel()  # automatic detection\n",
    "#parallel = wberri.Serial()"
   ]
  },
  {
   "cell_type": "markdown",
   "id": "f9704439",
   "metadata": {},
   "source": [
    "## Free-electron k.p model\n",
    "\n",
    "For simplicity, it is a 1-band free-electron"
   ]
  },
  {
   "cell_type": "code",
   "execution_count": 3,
   "id": "9323b0f5",
   "metadata": {},
   "outputs": [
    {
     "name": "stdout",
     "output_type": "stream",
     "text": [
      "Number of wannier functions: 1\n"
     ]
    }
   ],
   "source": [
    "# hamiltonian takes k-vector in reciprocal angstroms and gives hamiltonian in eV\n",
    "mass = 1.0   # in units Ang^2/eV\n",
    "alpha=0  # anharmonicity\n",
    "def ham(k):\n",
    "    return np.array([[np.dot(k,k)/(2*mass)+alpha*np.dot(k,k)*4]])\n",
    "# k.p model is bounded to a box of size 2*kmax\n",
    "system_kp = wberri.system.SystemKP(Ham=ham, kmax=1)"
   ]
  },
  {
   "cell_type": "code",
   "execution_count": 4,
   "id": "5e9deb92",
   "metadata": {},
   "outputs": [],
   "source": [
    "from wannierberri.calculators.tabulate import Tabulator\n",
    "from wannierberri.formula import Matrix_ln, transform_ident\n",
    "\n",
    "class Eavlnq(Matrix_ln):\n",
    "\n",
    "    def __init__(self, data_K, q_recip=None, q_cart=None):\n",
    "        if q_recip is None:\n",
    "            q_recip = np.dot(q_cart,np.linalg.inv(data_K.system.recip_lattice))\n",
    "        EKq = data_K.E_K_q(q_recip)\n",
    "        super().__init__(0.5 * (EKq[:, :, None] + EKq[:, None, :]))\n",
    "        self.ndim = 0\n",
    "        self.transformTR=transform_ident\n",
    "        self.transformInv=transform_ident\n",
    "        \n",
    "class Energy_q(Tabulator):\n",
    "\n",
    "    def __init__(self,**kwargs):\n",
    "        super().__init__(Eavlnq,**kwargs)\n",
    "\n"
   ]
  },
  {
   "cell_type": "code",
   "execution_count": 11,
   "id": "d5920e7d",
   "metadata": {},
   "outputs": [
    {
     "name": "stdout",
     "output_type": "stream",
     "text": [
      "calculator not described\n",
      "\n",
      "calculator not described\n",
      "\n",
      "calculator not described\n",
      "\n",
      "calculator not described\n",
      "\n"
     ]
    }
   ],
   "source": [
    "path=wberri.Path(system_kp,\n",
    "                 k_nodes=[\n",
    "        [0.0000, 0.0000, 0.0000 ],   #  G\n",
    "        [1.0 ,1.0, 1.0],   #  G\n",
    "        [0.0, 1.0, 1.0],   #  G\n",
    "        [0.0,1.0,0.0]   #  G\n",
    "                 ] ,\n",
    "                 labels=[\"G0\",\"G111\",\"G011\",\"G010\"],\n",
    "                 length=200 )   # length [ Ang] ~= 2*pi/dk\n",
    "\n",
    "tabulators = { \"Energy\": wberri.calculators.tabulate.Energy(),\n",
    "              \"berry\": wberri.calculators.tabulate.BerryCurvature(kwargs_formula={\"external_terms\":False}),\n",
    "             \"qEnergy\" : Energy_q(kwargs_formula={\"q_cart\":[0.,0.,0.5]}),\n",
    "             \"qEnergy2\" : Energy_q(kwargs_formula={\"q_cart\":[0.,0.,0.25]})\n",
    "             }\n",
    "\n",
    "\n",
    "\n",
    "tab_all_path = wberri.calculators.TabulatorAll(\n",
    "                    tabulators,\n",
    "                    # ibands = np.arange(0,18),\n",
    "                    mode = \"path\"\n",
    "                        )"
   ]
  },
  {
   "cell_type": "code",
   "execution_count": 12,
   "id": "3452b3fb",
   "metadata": {},
   "outputs": [
    {
     "name": "stdout",
     "output_type": "stream",
     "text": [
      "Calculation along a path - checking calculators for compatibility\n",
      "tabulate <wannierberri.calculators.TabulatorAll object at 0x7f38c0170a00>\n",
      "All calculators are compatible\n",
      "Symmetrization switched off for Path\n",
      "Grid is regular\n",
      "The set of k points is a Path() with 239 points and labels {0: 'G0', 110: 'G111', 174: 'G011', 238: 'G010'}\n",
      "WARNING : symmetry is not used for a tabulation along path\n",
      "generating K_list\n",
      "Done \n",
      "Done, sum of weights:239.0\n",
      "symgroup : None\n",
      "processing 239 K points : using  8 processes.\n",
      "# K-points calculated  Wall time (sec)  Est. remaining (sec)\n",
      "time for processing    239 K-points on   8 processes:     0.3665 ; per K-point          0.0015 ; proc-sec per K-point          0.0123\n",
      "time1 =  0.029946327209472656\n",
      "Totally processed 239 K-points \n",
      "{'tabulate': <wannierberri.result.__tabresult.TABresult object at 0x7f38c01729b0>}\n"
     ]
    }
   ],
   "source": [
    "result=wberri.run(system_kp,\n",
    "                  grid=path,\n",
    "                  calculators = {\"tabulate\" : tab_all_path},\n",
    "                  parallel = parallel,\n",
    "                  print_Kpoints = False)\n",
    "\n",
    "print (result.results)\n",
    "path_result = result.results[\"tabulate\"]"
   ]
  },
  {
   "cell_type": "markdown",
   "id": "5eabffff",
   "metadata": {},
   "source": [
    "## Plot bands\n",
    "\n",
    "The `TABresult` object already provides methods to plot the results. (As well as one can extract the data and plot them by other means). Below let’s plot the interpolated bands and compare with those obtained in QE. (file “bands/Fe_bands_pw.dat” is already provided)"
   ]
  },
  {
   "cell_type": "code",
   "execution_count": 15,
   "id": "269d6c51",
   "metadata": {},
   "outputs": [
    {
     "data": {
      "image/png": "[encoded data removed]",
      "text/plain": [
       "<Figure size 432x288 with 1 Axes>"
      ]
     },
     "metadata": {
      "needs_background": "light"
     },
     "output_type": "display_data"
    }
   ],
   "source": [
    "path_result = result.results[\"tabulate\"]\n",
    "eq=path_result.get_data(\"qEnergy\",iband=0)\n",
    "eq2=path_result.get_data(\"qEnergy2\",iband=0)\n",
    "plt.close()\n",
    "path_result.plot_path_fat( path,\n",
    "              quantity=None,\n",
    "#              Eshift=EF,\n",
    "              Emin=-0.2,  Emax=1,\n",
    "              iband=None,\n",
    "              mode=\"fatband\",\n",
    "              fatfactor=20,\n",
    "              cut_k=False,\n",
    "              close_fig=False,\n",
    "              show_fig=False,\n",
    "              label = \"WB\"\n",
    "              )\n",
    "\n",
    "kline = path.getKline()\n",
    "plt.plot(kline,kline**2/(2*mass),\"--\",label=\"k**2/(2*mass)\")\n",
    "plt.plot(kline,eq)\n",
    "plt.plot(kline,eq2)\n",
    "plt.legend()\n",
    "plt.show()\n",
    "plt.close()"
   ]
  },
  {
   "attachments": {},
   "cell_type": "markdown",
   "id": "415bcf63",
   "metadata": {},
   "source": [
    "## Definition of calculator for Lindhard function"
   ]
  },
  {
   "cell_type": "code",
   "execution_count": 8,
   "id": "2e4dc860",
   "metadata": {},
   "outputs": [
    {
     "name": "stdout",
     "output_type": "stream",
     "text": [
      "determining grids from NK=80 (<class 'int'>), NKdiv=None (<class 'NoneType'>), NKFFT=10 (<class 'NoneType'>)\n",
      "The grids were set to NKdiv=[8 8 8], NKFFT=[10 10 10], NKtot=[80 80 80]\n",
      "Grid is regular\n",
      "The set of k points is a Grid() with NKdiv=[8 8 8], NKFFT=[10 10 10], NKtot=[80 80 80]\n",
      "generating K_list\n",
      "Done in 0.008117198944091797 s \n",
      "excluding symmetry-equivalent K-points from initial grid\n",
      "Done in 0.044474124908447266 s \n",
      "Done in 0.04460549354553223 s \n",
      "K_list contains 512 Irreducible points(100.0%) out of initial 8x8x8=512 grid\n",
      "Done, sum of weights:1.0\n",
      "symgroup : Real_lattice:\n",
      "[[3.1416 0.     0.    ]\n",
      " [0.     3.1416 0.    ]\n",
      " [0.     0.     3.1416]]\n",
      " Recip. Lattice:\n",
      " [[2. 0. 0.]\n",
      " [0. 2. 0.]\n",
      " [0. 0. 2.]]\n",
      " size:1\n",
      "Operations:\n",
      "0:\n",
      "rotation:\n",
      "[[1. 0. 0.]\n",
      " [0. 1. 0.]\n",
      " [0. 0. 1.]] , TR: False , I: False\n",
      "\n",
      "processing 512 K points : using  8 processes.\n",
      "# K-points calculated  Wall time (sec)  Est. remaining (sec)\n",
      "time for processing    512 K-points on   8 processes:    13.8139 ; per K-point          0.0270 ; proc-sec per K-point          0.2158\n",
      "time1 =  0.015219926834106445\n",
      "Totally processed 512 K-points \n"
     ]
    }
   ],
   "source": [
    "Efermi = np.linspace(-0.1,0.6,71)\n",
    "from wannierberri.calculators.dynamic import Calculator\n",
    "from wannierberri.result import EnergyResult\n",
    "from wannierberri.symmetry import transform_ident\n",
    "\n",
    "class Lindhard(Calculator):\n",
    "    \"evaluates :matm:`\\int [dk] \\sum_{mn}\\frac{\\theta(E_F-E_m)-\\theta(E_F-E_n)}{(E_m-E_n+i\\eta)}`\"\n",
    "\n",
    "    def __init__(self,q,Efermi,eta=1e-3):\n",
    "        self.q=np.copy(q) # q in reciprocal coordinates\n",
    "        self.Efermi=np.copy(Efermi)\n",
    "        self.eta=eta\n",
    "\n",
    "    def linhard_q(self,EK,EKq):\n",
    "        res = np.zeros( (self.Efermi.shape[0], ), dtype = complex)\n",
    "        frac=1/(EK[:,:,None]-EKq[:,None,:]+1j*self.eta)\n",
    "        return np.array([frac[(EK<EF)[:,:,None]].sum()-frac[(EKq<EF)[:,None,:]].sum() for EF in self.Efermi])\n",
    "\n",
    "    def __call__(self,data_K):\n",
    "        EK=data_K.E_K\n",
    "        restot=[]\n",
    "        for q in self.q:\n",
    "            EKq=data_K.E_K_q(q)\n",
    "            restot.append(self.linhard_q(EK,EKq))\n",
    "        restot = np.array(restot)/data_K.nk * data_K.cell_volume\n",
    "        return EnergyResult(Energies = [self.q,self.Efermi],\n",
    "                            E_titles = [\"q\",\"Efermi\"],\n",
    "                            data= restot,\n",
    "                            transformTR=transform_ident, transformInv=transform_ident)\n",
    "\n",
    "        \n",
    "\n",
    "calculators = {\n",
    "                \"lindhard\":Lindhard(q=[[0,0,0],[0.025,0,0],[0.05,0,0],[0.1,0,0],[0.2,0,0]],Efermi=Efermi)\n",
    "              }\n",
    "\n",
    "grid = wberri.Grid(system_kp, NK=80, NKFFT=10 )\n",
    "result_run = wberri.run(system_kp,\n",
    "            grid=grid,\n",
    "            calculators = calculators,\n",
    "            parallel=parallel,\n",
    "            adpt_num_iter=0,\n",
    "            fout_name='kp',\n",
    "            restart=False,\n",
    "            print_Kpoints=False\n",
    "            #file_Klist=\"Klist_ahc.pickle\"  # needed to restart a calculation in future\n",
    "            )"
   ]
  },
  {
   "cell_type": "code",
   "execution_count": 9,
   "id": "a422eb9f-eb89-4066-98b3-2b3c415d2396",
   "metadata": {},
   "outputs": [
    {
     "data": {
      "image/png": "[encoded data removed]",
      "text/plain": [
       "<Figure size 432x288 with 1 Axes>"
      ]
     },
     "metadata": {
      "needs_background": "light"
     },
     "output_type": "display_data"
    }
   ],
   "source": [
    "for i in range(5):\n",
    "    q=result_run.results[\"lindhard\"].Energies[0][i]\n",
    "    plt.plot(Efermi,result_run.results[\"lindhard\"].data[i].real,label=f\"q={q}\")\n",
    "    #plt.plot(Efermi,result_run.results[\"lindhard\"].data[i].imag,label=f\"imag q={q}\")\n",
    "    plt.legend()"
   ]
  },
  {
   "cell_type": "code",
   "execution_count": null,
   "id": "5b59136b-b51f-4e53-b3d7-8c3911f66d40",
   "metadata": {},
   "outputs": [],
   "source": []
  }
 ],
 "metadata": {
  "kernelspec": {
   "display_name": "Python 3 (ipykernel)",
   "language": "python",
   "name": "python3"
  },
  "language_info": {
   "codemirror_mode": {
    "name": "ipython",
    "version": 3
   },
   "file_extension": ".py",
   "mimetype": "text/x-python",
   "name": "python",
   "nbconvert_exporter": "python",
   "pygments_lexer": "ipython3",
   "version": "3.10.12"
  }
 },
 "nbformat": 4,
 "nbformat_minor": 5
}
